{
 "cells": [
  {
   "cell_type": "markdown",
   "metadata": {
    "application/vnd.databricks.v1+cell": {
     "cellMetadata": {},
     "inputWidgets": {},
     "nuid": "760cb8fa-83d6-431a-9397-d69c096a97df",
     "showTitle": false,
     "tableResultSettingsMap": {},
     "title": ""
    }
   },
   "source": [
    "# Ćwiczenie: Budowa core DataBota\n",
    "\n",
    "**Czas trwania:** 90 minut\n",
    "\n",
    "**Cel ćwiczenia:** W tym ćwiczeniu stworzymy szkielet DataBota zintegrowany z Mosaic Vector Search, który będzie w stanie przetwarzać zapytania użytkownika, pobierać odpowiednie dane i generować odpowiedzi przy użyciu modelu LLM."
   ]
  },
  {
   "cell_type": "markdown",
   "metadata": {
    "application/vnd.databricks.v1+cell": {
     "cellMetadata": {},
     "inputWidgets": {},
     "nuid": "64b81dfd-8114-4140-b739-0b45a956feb8",
     "showTitle": false,
     "tableResultSettingsMap": {},
     "title": ""
    }
   },
   "source": [
    "## Integracja z Mosaic Vector Search i embeddingi DBRX (Databricks)"
   ]
  },
  {
   "cell_type": "code",
   "execution_count": 0,
   "metadata": {
    "application/vnd.databricks.v1+cell": {
     "cellMetadata": {
      "byteLimit": 2048000,
      "rowLimit": 10000
     },
     "inputWidgets": {},
     "nuid": "c402ec62-e987-4cc2-8117-428747e7d7bf",
     "showTitle": false,
     "tableResultSettingsMap": {},
     "title": ""
    }
   },
   "outputs": [
    {
     "name": "stdout",
     "output_type": "stream",
     "text": [
      "Collecting langchain\n",
      "  Downloading langchain-0.3.25-py3-none-any.whl.metadata (7.8 kB)\n",
      "Collecting langchain-core<1.0.0,>=0.3.58 (from langchain)\n",
      "  Downloading langchain_core-0.3.59-py3-none-any.whl.metadata (5.9 kB)\n",
      "Collecting langchain-text-splitters<1.0.0,>=0.3.8 (from langchain)\n",
      "  Downloading langchain_text_splitters-0.3.8-py3-none-any.whl.metadata (1.9 kB)\n",
      "Collecting langsmith<0.4,>=0.1.17 (from langchain)\n",
      "  Downloading langsmith-0.3.42-py3-none-any.whl.metadata (15 kB)\n",
      "Requirement already satisfied: pydantic<3.0.0,>=2.7.4 in /databricks/python3/lib/python3.12/site-packages (from langchain) (2.8.2)\n",
      "Collecting SQLAlchemy<3,>=1.4 (from langchain)\n",
      "  Downloading sqlalchemy-2.0.40-cp312-cp312-manylinux_2_17_x86_64.manylinux2014_x86_64.whl.metadata (9.6 kB)\n",
      "Requirement already satisfied: requests<3,>=2 in /databricks/python3/lib/python3.12/site-packages (from langchain) (2.32.2)\n",
      "Requirement already satisfied: PyYAML>=5.3 in /databricks/python3/lib/python3.12/site-packages (from langchain) (6.0.1)\n",
      "Requirement already satisfied: tenacity!=8.4.0,<10.0.0,>=8.1.0 in /databricks/python3/lib/python3.12/site-packages (from langchain-core<1.0.0,>=0.3.58->langchain) (8.2.2)\n",
      "Collecting jsonpatch<2.0,>=1.33 (from langchain-core<1.0.0,>=0.3.58->langchain)\n",
      "  Downloading jsonpatch-1.33-py2.py3-none-any.whl.metadata (3.0 kB)\n",
      "Requirement already satisfied: packaging<25,>=23.2 in /databricks/python3/lib/python3.12/site-packages (from langchain-core<1.0.0,>=0.3.58->langchain) (24.1)\n",
      "Requirement already satisfied: typing-extensions>=4.7 in /databricks/python3/lib/python3.12/site-packages (from langchain-core<1.0.0,>=0.3.58->langchain) (4.11.0)\n",
      "Collecting httpx<1,>=0.23.0 (from langsmith<0.4,>=0.1.17->langchain)\n",
      "  Downloading httpx-0.28.1-py3-none-any.whl.metadata (7.1 kB)\n",
      "Collecting orjson<4.0.0,>=3.9.14 (from langsmith<0.4,>=0.1.17->langchain)\n",
      "  Downloading orjson-3.10.18-cp312-cp312-manylinux_2_17_x86_64.manylinux2014_x86_64.whl.metadata (41 kB)\n",
      "\u001b[?25l     \u001b[90m━━━━━━━━━━━━━━━━━━━━━━━━━━━━━━━━━━━━━━━━\u001b[0m \u001b[32m0.0/41.9 kB\u001b[0m \u001b[31m?\u001b[0m eta \u001b[36m-:--:--\u001b[0m\n",
      "\u001b[2K     \u001b[90m━━━━━━━━━━━━━━━━━━━━━━━━━━━━━━━━━━━━━━━━\u001b[0m \u001b[32m41.9/41.9 kB\u001b[0m \u001b[31m2.4 MB/s\u001b[0m eta \u001b[36m0:00:00\u001b[0m\n",
      "\u001b[?25hCollecting requests-toolbelt<2.0.0,>=1.0.0 (from langsmith<0.4,>=0.1.17->langchain)\n",
      "  Downloading requests_toolbelt-1.0.0-py2.py3-none-any.whl.metadata (14 kB)\n",
      "Collecting zstandard<0.24.0,>=0.23.0 (from langsmith<0.4,>=0.1.17->langchain)\n",
      "  Downloading zstandard-0.23.0-cp312-cp312-manylinux_2_17_x86_64.manylinux2014_x86_64.whl.metadata (3.0 kB)\n",
      "Requirement already satisfied: annotated-types>=0.4.0 in /databricks/python3/lib/python3.12/site-packages (from pydantic<3.0.0,>=2.7.4->langchain) (0.7.0)\n",
      "Requirement already satisfied: pydantic-core==2.20.1 in /databricks/python3/lib/python3.12/site-packages (from pydantic<3.0.0,>=2.7.4->langchain) (2.20.1)\n",
      "Requirement already satisfied: charset-normalizer<4,>=2 in /databricks/python3/lib/python3.12/site-packages (from requests<3,>=2->langchain) (2.0.4)\n",
      "Requirement already satisfied: idna<4,>=2.5 in /databricks/python3/lib/python3.12/site-packages (from requests<3,>=2->langchain) (3.7)\n",
      "Requirement already satisfied: urllib3<3,>=1.21.1 in /databricks/python3/lib/python3.12/site-packages (from requests<3,>=2->langchain) (1.26.16)\n",
      "Requirement already satisfied: certifi>=2017.4.17 in /databricks/python3/lib/python3.12/site-packages (from requests<3,>=2->langchain) (2024.6.2)\n",
      "Collecting greenlet>=1 (from SQLAlchemy<3,>=1.4->langchain)\n",
      "  Downloading greenlet-3.2.2-cp312-cp312-manylinux_2_24_x86_64.manylinux_2_28_x86_64.whl.metadata (4.1 kB)\n",
      "Collecting anyio (from httpx<1,>=0.23.0->langsmith<0.4,>=0.1.17->langchain)\n",
      "  Downloading anyio-4.9.0-py3-none-any.whl.metadata (4.7 kB)\n",
      "Collecting httpcore==1.* (from httpx<1,>=0.23.0->langsmith<0.4,>=0.1.17->langchain)\n",
      "  Downloading httpcore-1.0.9-py3-none-any.whl.metadata (21 kB)\n",
      "Collecting h11>=0.16 (from httpcore==1.*->httpx<1,>=0.23.0->langsmith<0.4,>=0.1.17->langchain)\n",
      "  Downloading h11-0.16.0-py3-none-any.whl.metadata (8.3 kB)\n",
      "Collecting jsonpointer>=1.9 (from jsonpatch<2.0,>=1.33->langchain-core<1.0.0,>=0.3.58->langchain)\n",
      "  Downloading jsonpointer-3.0.0-py2.py3-none-any.whl.metadata (2.3 kB)\n",
      "Collecting sniffio>=1.1 (from anyio->httpx<1,>=0.23.0->langsmith<0.4,>=0.1.17->langchain)\n",
      "  Downloading sniffio-1.3.1-py3-none-any.whl.metadata (3.9 kB)\n",
      "Downloading langchain-0.3.25-py3-none-any.whl (1.0 MB)\n",
      "\u001b[?25l   \u001b[90m━━━━━━━━━━━━━━━━━━━━━━━━━━━━━━━━━━━━━━━━\u001b[0m \u001b[32m0.0/1.0 MB\u001b[0m \u001b[31m?\u001b[0m eta \u001b[36m-:--:--\u001b[0m\n",
      "\u001b[2K   \u001b[90m━━━━━━━━━━━━━━━━━━━━━━━━━━━━━━━━━━━━━━━━\u001b[0m \u001b[32m1.0/1.0 MB\u001b[0m \u001b[31m38.0 MB/s\u001b[0m eta \u001b[36m0:00:00\u001b[0m\n",
      "\u001b[?25hDownloading langchain_core-0.3.59-py3-none-any.whl (437 kB)\n",
      "\u001b[?25l   \u001b[90m━━━━━━━━━━━━━━━━━━━━━━━━━━━━━━━━━━━━━━━━\u001b[0m \u001b[32m0.0/437.7 kB\u001b[0m \u001b[31m?\u001b[0m eta \u001b[36m-:--:--\u001b[0m\n",
      "\u001b[2K   \u001b[90m━━━━━━━━━━━━━━━━━━━━━━━━━━━━━━━━━━━━━━━━\u001b[0m \u001b[32m437.7/437.7 kB\u001b[0m \u001b[31m27.8 MB/s\u001b[0m eta \u001b[36m0:00:00\u001b[0m\n",
      "\u001b[?25hDownloading langchain_text_splitters-0.3.8-py3-none-any.whl (32 kB)\n",
      "Downloading langsmith-0.3.42-py3-none-any.whl (360 kB)\n",
      "\u001b[?25l   \u001b[90m━━━━━━━━━━━━━━━━━━━━━━━━━━━━━━━━━━━━━━━━\u001b[0m \u001b[32m0.0/360.3 kB\u001b[0m \u001b[31m?\u001b[0m eta \u001b[36m-:--:--\u001b[0m\n",
      "\u001b[2K   \u001b[90m━━━━━━━━━━━━━━━━━━━━━━━━━━━━━━━━━━━━━━━━\u001b[0m \u001b[32m360.3/360.3 kB\u001b[0m \u001b[31m24.8 MB/s\u001b[0m eta \u001b[36m0:00:00\u001b[0m\n",
      "\u001b[?25hDownloading sqlalchemy-2.0.40-cp312-cp312-manylinux_2_17_x86_64.manylinux2014_x86_64.whl (3.3 MB)\n",
      "\u001b[?25l   \u001b[90m━━━━━━━━━━━━━━━━━━━━━━━━━━━━━━━━━━━━━━━━\u001b[0m \u001b[32m0.0/3.3 MB\u001b[0m \u001b[31m?\u001b[0m eta \u001b[36m-:--:--\u001b[0m\n",
      "\u001b[2K   \u001b[91m━━━━━━━━━━━━━━━━━━━━━━━━━━━━━━━━━━━━━━━\u001b[0m\u001b[91m╸\u001b[0m \u001b[32m3.3/3.3 MB\u001b[0m \u001b[31m144.3 MB/s\u001b[0m eta \u001b[36m0:00:01\u001b[0m\n",
      "\u001b[2K   \u001b[90m━━━━━━━━━━━━━━━━━━━━━━━━━━━━━━━━━━━━━━━━\u001b[0m \u001b[32m3.3/3.3 MB\u001b[0m \u001b[31m80.9 MB/s\u001b[0m eta \u001b[36m0:00:00\u001b[0m\n",
      "\u001b[?25hDownloading greenlet-3.2.2-cp312-cp312-manylinux_2_24_x86_64.manylinux_2_28_x86_64.whl (603 kB)\n",
      "\u001b[?25l   \u001b[90m━━━━━━━━━━━━━━━━━━━━━━━━━━━━━━━━━━━━━━━━\u001b[0m \u001b[32m0.0/603.9 kB\u001b[0m \u001b[31m?\u001b[0m eta \u001b[36m-:--:--\u001b[0m\n",
      "\u001b[2K   \u001b[90m━━━━━━━━━━━━━━━━━━━━━━━━━━━━━━━━━━━━━━━━\u001b[0m \u001b[32m603.9/603.9 kB\u001b[0m \u001b[31m39.9 MB/s\u001b[0m eta \u001b[36m0:00:00\u001b[0m\n",
      "\u001b[?25hDownloading httpx-0.28.1-py3-none-any.whl (73 kB)\n",
      "\u001b[?25l   \u001b[90m━━━━━━━━━━━━━━━━━━━━━━━━━━━━━━━━━━━━━━━━\u001b[0m \u001b[32m0.0/73.5 kB\u001b[0m \u001b[31m?\u001b[0m eta \u001b[36m-:--:--\u001b[0m\n",
      "\u001b[2K   \u001b[90m━━━━━━━━━━━━━━━━━━━━━━━━━━━━━━━━━━━━━━━━\u001b[0m \u001b[32m73.5/73.5 kB\u001b[0m \u001b[31m5.6 MB/s\u001b[0m eta \u001b[36m0:00:00\u001b[0m\n",
      "\u001b[?25hDownloading httpcore-1.0.9-py3-none-any.whl (78 kB)\n",
      "\u001b[?25l   \u001b[90m━━━━━━━━━━━━━━━━━━━━━━━━━━━━━━━━━━━━━━━━\u001b[0m \u001b[32m0.0/78.8 kB\u001b[0m \u001b[31m?\u001b[0m eta \u001b[36m-:--:--\u001b[0m\n",
      "\u001b[2K   \u001b[90m━━━━━━━━━━━━━━━━━━━━━━━━━━━━━━━━━━━━━━━━\u001b[0m \u001b[32m78.8/78.8 kB\u001b[0m \u001b[31m5.5 MB/s\u001b[0m eta \u001b[36m0:00:00\u001b[0m\n",
      "\u001b[?25hDownloading jsonpatch-1.33-py2.py3-none-any.whl (12 kB)\n",
      "Downloading orjson-3.10.18-cp312-cp312-manylinux_2_17_x86_64.manylinux2014_x86_64.whl (133 kB)\n",
      "\u001b[?25l   \u001b[90m━━━━━━━━━━━━━━━━━━━━━━━━━━━━━━━━━━━━━━━━\u001b[0m \u001b[32m0.0/133.1 kB\u001b[0m \u001b[31m?\u001b[0m eta \u001b[36m-:--:--\u001b[0m\n",
      "\u001b[2K   \u001b[90m━━━━━━━━━━━━━━━━━━━━━━━━━━━━━━━━━━━━━━━━\u001b[0m \u001b[32m133.1/133.1 kB\u001b[0m \u001b[31m10.8 MB/s\u001b[0m eta \u001b[36m0:00:00\u001b[0m\n",
      "\u001b[?25hDownloading requests_toolbelt-1.0.0-py2.py3-none-any.whl (54 kB)\n",
      "\u001b[?25l   \u001b[90m━━━━━━━━━━━━━━━━━━━━━━━━━━━━━━━━━━━━━━━━\u001b[0m \u001b[32m0.0/54.5 kB\u001b[0m \u001b[31m?\u001b[0m eta \u001b[36m-:--:--\u001b[0m\n",
      "\u001b[2K   \u001b[90m━━━━━━━━━━━━━━━━━━━━━━━━━━━━━━━━━━━━━━━━\u001b[0m \u001b[32m54.5/54.5 kB\u001b[0m \u001b[31m4.9 MB/s\u001b[0m eta \u001b[36m0:00:00\u001b[0m\n",
      "\u001b[?25hDownloading zstandard-0.23.0-cp312-cp312-manylinux_2_17_x86_64.manylinux2014_x86_64.whl (5.4 MB)\n",
      "\u001b[?25l   \u001b[90m━━━━━━━━━━━━━━━━━━━━━━━━━━━━━━━━━━━━━━━━\u001b[0m \u001b[32m0.0/5.4 MB\u001b[0m \u001b[31m?\u001b[0m eta \u001b[36m-:--:--\u001b[0m\n",
      "\u001b[2K   \u001b[91m━━━━━━━━━━━━━━━━━━━━━━━━━━━━━━━━━━━━\u001b[0m\u001b[90m╺\u001b[0m\u001b[90m━━━\u001b[0m \u001b[32m4.9/5.4 MB\u001b[0m \u001b[31m147.3 MB/s\u001b[0m eta \u001b[36m0:00:01\u001b[0m\n",
      "\u001b[2K   \u001b[91m━━━━━━━━━━━━━━━━━━━━━━━━━━━━━━━━━━━━━━━\u001b[0m\u001b[91m╸\u001b[0m \u001b[32m5.4/5.4 MB\u001b[0m \u001b[31m140.3 MB/s\u001b[0m eta \u001b[36m0:00:01\u001b[0m\n",
      "\u001b[2K   \u001b[90m━━━━━━━━━━━━━━━━━━━━━━━━━━━━━━━━━━━━━━━━\u001b[0m \u001b[32m5.4/5.4 MB\u001b[0m \u001b[31m69.0 MB/s\u001b[0m eta \u001b[36m0:00:00\u001b[0m\n",
      "\u001b[?25hDownloading jsonpointer-3.0.0-py2.py3-none-any.whl (7.6 kB)\n",
      "Downloading anyio-4.9.0-py3-none-any.whl (100 kB)\n",
      "\u001b[?25l   \u001b[90m━━━━━━━━━━━━━━━━━━━━━━━━━━━━━━━━━━━━━━━━\u001b[0m \u001b[32m0.0/100.9 kB\u001b[0m \u001b[31m?\u001b[0m eta \u001b[36m-:--:--\u001b[0m\n",
      "\u001b[2K   \u001b[91m━━━━━━━━━━━━━━━━━━━━━━━━━━━━━━━━━━━━\u001b[0m\u001b[91m╸\u001b[0m\u001b[90m━━━\u001b[0m \u001b[32m92.2/100.9 kB\u001b[0m \u001b[31m171.0 MB/s\u001b[0m eta \u001b[36m0:00:01\u001b[0m\n",
      "\u001b[2K   \u001b[90m━━━━━━━━━━━━━━━━━━━━━━━━━━━━━━━━━━━━━━━━\u001b[0m \u001b[32m100.9/100.9 kB\u001b[0m \u001b[31m1.5 MB/s\u001b[0m eta \u001b[36m0:00:00\u001b[0m\n",
      "\u001b[?25hDownloading h11-0.16.0-py3-none-any.whl (37 kB)\n",
      "Downloading sniffio-1.3.1-py3-none-any.whl (10 kB)\n",
      "Installing collected packages: zstandard, sniffio, orjson, jsonpointer, h11, greenlet, SQLAlchemy, requests-toolbelt, jsonpatch, httpcore, anyio, httpx, langsmith, langchain-core, langchain-text-splitters, langchain\n",
      "Successfully installed SQLAlchemy-2.0.40 anyio-4.9.0 greenlet-3.2.2 h11-0.16.0 httpcore-1.0.9 httpx-0.28.1 jsonpatch-1.33 jsonpointer-3.0.0 langchain-0.3.25 langchain-core-0.3.59 langchain-text-splitters-0.3.8 langsmith-0.3.42 orjson-3.10.18 requests-toolbelt-1.0.0 sniffio-1.3.1 zstandard-0.23.0\n",
      "\u001b[43mNote: you may need to restart the kernel using %restart_python or dbutils.library.restartPython() to use updated packages.\u001b[0m\n"
     ]
    }
   ],
   "source": [
    "!pip install langchain"
   ]
  },
  {
   "cell_type": "code",
   "execution_count": 0,
   "metadata": {
    "application/vnd.databricks.v1+cell": {
     "cellMetadata": {
      "byteLimit": 2048000,
      "rowLimit": 10000
     },
     "inputWidgets": {},
     "nuid": "b2fec57e-6db3-4c7d-b1e8-4d1587193235",
     "showTitle": false,
     "tableResultSettingsMap": {},
     "title": ""
    }
   },
   "outputs": [
    {
     "data": {
      "text/plain": [
       "\u001b[0;31m---------------------------------------------------------------------------\u001b[0m\n",
       "\u001b[0;31mModuleNotFoundError\u001b[0m                       Traceback (most recent call last)\n",
       "File \u001b[0;32m/local_disk0/.ephemeral_nfs/envs/pythonEnv-b6484e2e-695e-4af7-9646-c66ea3f45576/lib/python3.12/site-packages/langchain/_api/module_import.py:69\u001b[0m, in \u001b[0;36mcreate_importer.<locals>.import_by_name\u001b[0;34m(name)\u001b[0m\n",
       "\u001b[1;32m     68\u001b[0m \u001b[38;5;28;01mtry\u001b[39;00m:\n",
       "\u001b[0;32m---> 69\u001b[0m     module \u001b[38;5;241m=\u001b[39m importlib\u001b[38;5;241m.\u001b[39mimport_module(new_module)\n",
       "\u001b[1;32m     70\u001b[0m \u001b[38;5;28;01mexcept\u001b[39;00m \u001b[38;5;167;01mModuleNotFoundError\u001b[39;00m \u001b[38;5;28;01mas\u001b[39;00m e:\n",
       "\n",
       "File \u001b[0;32m/usr/lib/python3.12/importlib/__init__.py:90\u001b[0m, in \u001b[0;36mimport_module\u001b[0;34m(name, package)\u001b[0m\n",
       "\u001b[1;32m     89\u001b[0m         level \u001b[38;5;241m+\u001b[39m\u001b[38;5;241m=\u001b[39m \u001b[38;5;241m1\u001b[39m\n",
       "\u001b[0;32m---> 90\u001b[0m \u001b[38;5;28;01mreturn\u001b[39;00m _bootstrap\u001b[38;5;241m.\u001b[39m_gcd_import(name[level:], package, level)\n",
       "\n",
       "File \u001b[0;32m<frozen importlib._bootstrap>:1387\u001b[0m, in \u001b[0;36m_gcd_import\u001b[0;34m(name, package, level)\u001b[0m\n",
       "\n",
       "File \u001b[0;32m<frozen importlib._bootstrap>:1360\u001b[0m, in \u001b[0;36m_find_and_load\u001b[0;34m(name, import_)\u001b[0m\n",
       "\n",
       "File \u001b[0;32m<frozen importlib._bootstrap>:1310\u001b[0m, in \u001b[0;36m_find_and_load_unlocked\u001b[0;34m(name, import_)\u001b[0m\n",
       "\n",
       "File \u001b[0;32m<frozen importlib._bootstrap>:488\u001b[0m, in \u001b[0;36m_call_with_frames_removed\u001b[0;34m(f, *args, **kwds)\u001b[0m\n",
       "\n",
       "File \u001b[0;32m<frozen importlib._bootstrap>:1387\u001b[0m, in \u001b[0;36m_gcd_import\u001b[0;34m(name, package, level)\u001b[0m\n",
       "\n",
       "File \u001b[0;32m<frozen importlib._bootstrap>:1360\u001b[0m, in \u001b[0;36m_find_and_load\u001b[0;34m(name, import_)\u001b[0m\n",
       "\n",
       "File \u001b[0;32m<frozen importlib._bootstrap>:1324\u001b[0m, in \u001b[0;36m_find_and_load_unlocked\u001b[0;34m(name, import_)\u001b[0m\n",
       "\n",
       "\u001b[0;31mModuleNotFoundError\u001b[0m: No module named 'langchain_community'\n",
       "\n",
       "The above exception was the direct cause of the following exception:\n",
       "\n",
       "\u001b[0;31mModuleNotFoundError\u001b[0m                       Traceback (most recent call last)\n",
       "File \u001b[0;32m<command-2832326452911437>, line 1\u001b[0m\n",
       "\u001b[0;32m----> 1\u001b[0m \u001b[38;5;28;01mfrom\u001b[39;00m \u001b[38;5;21;01mlangchain\u001b[39;00m\u001b[38;5;21;01m.\u001b[39;00m\u001b[38;5;21;01mdocument_loaders\u001b[39;00m \u001b[38;5;28;01mimport\u001b[39;00m PyPDFLoader\n",
       "\u001b[1;32m      3\u001b[0m \u001b[38;5;66;03m# Załaduj dokument PDF\u001b[39;00m\n",
       "\u001b[1;32m      4\u001b[0m loader \u001b[38;5;241m=\u001b[39m PyPDFLoader(\u001b[38;5;124m\"\u001b[39m\u001b[38;5;124mexample.pdf\u001b[39m\u001b[38;5;124m\"\u001b[39m)\n",
       "\n",
       "File \u001b[0;32m/databricks/python_shell/lib/dbruntime/autoreload/discoverability/hook.py:71\u001b[0m, in \u001b[0;36mAutoreloadDiscoverabilityHook._patched_import\u001b[0;34m(self, name, *args, **kwargs)\u001b[0m\n",
       "\u001b[1;32m     65\u001b[0m \u001b[38;5;28;01mif\u001b[39;00m \u001b[38;5;129;01mnot\u001b[39;00m \u001b[38;5;28mself\u001b[39m\u001b[38;5;241m.\u001b[39m_should_hint \u001b[38;5;129;01mand\u001b[39;00m (\n",
       "\u001b[1;32m     66\u001b[0m     (module \u001b[38;5;241m:=\u001b[39m sys\u001b[38;5;241m.\u001b[39mmodules\u001b[38;5;241m.\u001b[39mget(absolute_name)) \u001b[38;5;129;01mis\u001b[39;00m \u001b[38;5;129;01mnot\u001b[39;00m \u001b[38;5;28;01mNone\u001b[39;00m \u001b[38;5;129;01mand\u001b[39;00m\n",
       "\u001b[1;32m     67\u001b[0m     (fname \u001b[38;5;241m:=\u001b[39m get_allowed_file_name_or_none(module)) \u001b[38;5;129;01mis\u001b[39;00m \u001b[38;5;129;01mnot\u001b[39;00m \u001b[38;5;28;01mNone\u001b[39;00m \u001b[38;5;129;01mand\u001b[39;00m\n",
       "\u001b[1;32m     68\u001b[0m     (mtime \u001b[38;5;241m:=\u001b[39m os\u001b[38;5;241m.\u001b[39mstat(fname)\u001b[38;5;241m.\u001b[39mst_mtime) \u001b[38;5;241m>\u001b[39m \u001b[38;5;28mself\u001b[39m\u001b[38;5;241m.\u001b[39mlast_mtime_by_modname\u001b[38;5;241m.\u001b[39mget(\n",
       "\u001b[1;32m     69\u001b[0m         absolute_name, \u001b[38;5;28mfloat\u001b[39m(\u001b[38;5;124m\"\u001b[39m\u001b[38;5;124minf\u001b[39m\u001b[38;5;124m\"\u001b[39m)) \u001b[38;5;129;01mand\u001b[39;00m \u001b[38;5;129;01mnot\u001b[39;00m \u001b[38;5;28mself\u001b[39m\u001b[38;5;241m.\u001b[39m_should_hint):\n",
       "\u001b[1;32m     70\u001b[0m     \u001b[38;5;28mself\u001b[39m\u001b[38;5;241m.\u001b[39m_should_hint \u001b[38;5;241m=\u001b[39m \u001b[38;5;28;01mTrue\u001b[39;00m\n",
       "\u001b[0;32m---> 71\u001b[0m module \u001b[38;5;241m=\u001b[39m \u001b[38;5;28mself\u001b[39m\u001b[38;5;241m.\u001b[39m_original_builtins_import(name, \u001b[38;5;241m*\u001b[39margs, \u001b[38;5;241m*\u001b[39m\u001b[38;5;241m*\u001b[39mkwargs)\n",
       "\u001b[1;32m     72\u001b[0m \u001b[38;5;28;01mif\u001b[39;00m (fname \u001b[38;5;241m:=\u001b[39m fname \u001b[38;5;129;01mor\u001b[39;00m get_allowed_file_name_or_none(module)) \u001b[38;5;129;01mis\u001b[39;00m \u001b[38;5;129;01mnot\u001b[39;00m \u001b[38;5;28;01mNone\u001b[39;00m:\n",
       "\u001b[1;32m     73\u001b[0m     mtime \u001b[38;5;241m=\u001b[39m mtime \u001b[38;5;129;01mor\u001b[39;00m os\u001b[38;5;241m.\u001b[39mstat(fname)\u001b[38;5;241m.\u001b[39mst_mtime\n",
       "\n",
       "File \u001b[0;32m/local_disk0/.ephemeral_nfs/envs/pythonEnv-b6484e2e-695e-4af7-9646-c66ea3f45576/lib/python3.12/site-packages/langchain/document_loaders/__init__.py:379\u001b[0m, in \u001b[0;36m__getattr__\u001b[0;34m(name)\u001b[0m\n",
       "\u001b[1;32m    377\u001b[0m \u001b[38;5;28;01mdef\u001b[39;00m \u001b[38;5;21m__getattr__\u001b[39m(name: \u001b[38;5;28mstr\u001b[39m) \u001b[38;5;241m-\u001b[39m\u001b[38;5;241m>\u001b[39m Any:\n",
       "\u001b[1;32m    378\u001b[0m \u001b[38;5;250m    \u001b[39m\u001b[38;5;124;03m\"\"\"Look up attributes dynamically.\"\"\"\u001b[39;00m\n",
       "\u001b[0;32m--> 379\u001b[0m     \u001b[38;5;28;01mreturn\u001b[39;00m _import_attribute(name)\n",
       "\n",
       "File \u001b[0;32m/local_disk0/.ephemeral_nfs/envs/pythonEnv-b6484e2e-695e-4af7-9646-c66ea3f45576/lib/python3.12/site-packages/langchain/_api/module_import.py:72\u001b[0m, in \u001b[0;36mcreate_importer.<locals>.import_by_name\u001b[0;34m(name)\u001b[0m\n",
       "\u001b[1;32m     70\u001b[0m \u001b[38;5;28;01mexcept\u001b[39;00m \u001b[38;5;167;01mModuleNotFoundError\u001b[39;00m \u001b[38;5;28;01mas\u001b[39;00m e:\n",
       "\u001b[1;32m     71\u001b[0m     \u001b[38;5;28;01mif\u001b[39;00m new_module\u001b[38;5;241m.\u001b[39mstartswith(\u001b[38;5;124m\"\u001b[39m\u001b[38;5;124mlangchain_community\u001b[39m\u001b[38;5;124m\"\u001b[39m):\n",
       "\u001b[0;32m---> 72\u001b[0m         \u001b[38;5;28;01mraise\u001b[39;00m \u001b[38;5;167;01mModuleNotFoundError\u001b[39;00m(\n",
       "\u001b[1;32m     73\u001b[0m             \u001b[38;5;124mf\u001b[39m\u001b[38;5;124m\"\u001b[39m\u001b[38;5;124mModule \u001b[39m\u001b[38;5;132;01m{\u001b[39;00mnew_module\u001b[38;5;132;01m}\u001b[39;00m\u001b[38;5;124m not found. \u001b[39m\u001b[38;5;124m\"\u001b[39m\n",
       "\u001b[1;32m     74\u001b[0m             \u001b[38;5;124m\"\u001b[39m\u001b[38;5;124mPlease install langchain-community to access this module. \u001b[39m\u001b[38;5;124m\"\u001b[39m\n",
       "\u001b[1;32m     75\u001b[0m             \u001b[38;5;124m\"\u001b[39m\u001b[38;5;124mYou can install it using `pip install -U langchain-community`\u001b[39m\u001b[38;5;124m\"\u001b[39m\n",
       "\u001b[1;32m     76\u001b[0m         ) \u001b[38;5;28;01mfrom\u001b[39;00m \u001b[38;5;21;01me\u001b[39;00m\n",
       "\u001b[1;32m     77\u001b[0m     \u001b[38;5;28;01mraise\u001b[39;00m\n",
       "\u001b[1;32m     79\u001b[0m \u001b[38;5;28;01mtry\u001b[39;00m:\n",
       "\n",
       "\u001b[0;31mModuleNotFoundError\u001b[0m: Module langchain_community.document_loaders not found. Please install langchain-community to access this module. You can install it using `pip install -U langchain-community`"
      ]
     },
     "metadata": {
      "application/vnd.databricks.v1+output": {
       "addedWidgets": {},
       "arguments": {},
       "datasetInfos": [],
       "jupyterProps": {
        "ename": "ModuleNotFoundError",
        "evalue": "Module langchain_community.document_loaders not found. Please install langchain-community to access this module. You can install it using `pip install -U langchain-community`"
       },
       "metadata": {
        "errorSummary": "<span class='ansi-red-fg'>ModuleNotFoundError</span>: Module langchain_community.document_loaders not found. Please install langchain-community to access this module. You can install it using `pip install -U langchain-community`"
       },
       "removedWidgets": [],
       "sqlProps": null,
       "stackFrames": [
        "\u001b[0;31m---------------------------------------------------------------------------\u001b[0m",
        "\u001b[0;31mModuleNotFoundError\u001b[0m                       Traceback (most recent call last)",
        "File \u001b[0;32m/local_disk0/.ephemeral_nfs/envs/pythonEnv-b6484e2e-695e-4af7-9646-c66ea3f45576/lib/python3.12/site-packages/langchain/_api/module_import.py:69\u001b[0m, in \u001b[0;36mcreate_importer.<locals>.import_by_name\u001b[0;34m(name)\u001b[0m\n\u001b[1;32m     68\u001b[0m \u001b[38;5;28;01mtry\u001b[39;00m:\n\u001b[0;32m---> 69\u001b[0m     module \u001b[38;5;241m=\u001b[39m importlib\u001b[38;5;241m.\u001b[39mimport_module(new_module)\n\u001b[1;32m     70\u001b[0m \u001b[38;5;28;01mexcept\u001b[39;00m \u001b[38;5;167;01mModuleNotFoundError\u001b[39;00m \u001b[38;5;28;01mas\u001b[39;00m e:\n",
        "File \u001b[0;32m/usr/lib/python3.12/importlib/__init__.py:90\u001b[0m, in \u001b[0;36mimport_module\u001b[0;34m(name, package)\u001b[0m\n\u001b[1;32m     89\u001b[0m         level \u001b[38;5;241m+\u001b[39m\u001b[38;5;241m=\u001b[39m \u001b[38;5;241m1\u001b[39m\n\u001b[0;32m---> 90\u001b[0m \u001b[38;5;28;01mreturn\u001b[39;00m _bootstrap\u001b[38;5;241m.\u001b[39m_gcd_import(name[level:], package, level)\n",
        "File \u001b[0;32m<frozen importlib._bootstrap>:1387\u001b[0m, in \u001b[0;36m_gcd_import\u001b[0;34m(name, package, level)\u001b[0m\n",
        "File \u001b[0;32m<frozen importlib._bootstrap>:1360\u001b[0m, in \u001b[0;36m_find_and_load\u001b[0;34m(name, import_)\u001b[0m\n",
        "File \u001b[0;32m<frozen importlib._bootstrap>:1310\u001b[0m, in \u001b[0;36m_find_and_load_unlocked\u001b[0;34m(name, import_)\u001b[0m\n",
        "File \u001b[0;32m<frozen importlib._bootstrap>:488\u001b[0m, in \u001b[0;36m_call_with_frames_removed\u001b[0;34m(f, *args, **kwds)\u001b[0m\n",
        "File \u001b[0;32m<frozen importlib._bootstrap>:1387\u001b[0m, in \u001b[0;36m_gcd_import\u001b[0;34m(name, package, level)\u001b[0m\n",
        "File \u001b[0;32m<frozen importlib._bootstrap>:1360\u001b[0m, in \u001b[0;36m_find_and_load\u001b[0;34m(name, import_)\u001b[0m\n",
        "File \u001b[0;32m<frozen importlib._bootstrap>:1324\u001b[0m, in \u001b[0;36m_find_and_load_unlocked\u001b[0;34m(name, import_)\u001b[0m\n",
        "\u001b[0;31mModuleNotFoundError\u001b[0m: No module named 'langchain_community'",
        "\nThe above exception was the direct cause of the following exception:\n",
        "\u001b[0;31mModuleNotFoundError\u001b[0m                       Traceback (most recent call last)",
        "File \u001b[0;32m<command-2832326452911437>, line 1\u001b[0m\n\u001b[0;32m----> 1\u001b[0m \u001b[38;5;28;01mfrom\u001b[39;00m \u001b[38;5;21;01mlangchain\u001b[39;00m\u001b[38;5;21;01m.\u001b[39;00m\u001b[38;5;21;01mdocument_loaders\u001b[39;00m \u001b[38;5;28;01mimport\u001b[39;00m PyPDFLoader\n\u001b[1;32m      3\u001b[0m \u001b[38;5;66;03m# Załaduj dokument PDF\u001b[39;00m\n\u001b[1;32m      4\u001b[0m loader \u001b[38;5;241m=\u001b[39m PyPDFLoader(\u001b[38;5;124m\"\u001b[39m\u001b[38;5;124mexample.pdf\u001b[39m\u001b[38;5;124m\"\u001b[39m)\n",
        "File \u001b[0;32m/databricks/python_shell/lib/dbruntime/autoreload/discoverability/hook.py:71\u001b[0m, in \u001b[0;36mAutoreloadDiscoverabilityHook._patched_import\u001b[0;34m(self, name, *args, **kwargs)\u001b[0m\n\u001b[1;32m     65\u001b[0m \u001b[38;5;28;01mif\u001b[39;00m \u001b[38;5;129;01mnot\u001b[39;00m \u001b[38;5;28mself\u001b[39m\u001b[38;5;241m.\u001b[39m_should_hint \u001b[38;5;129;01mand\u001b[39;00m (\n\u001b[1;32m     66\u001b[0m     (module \u001b[38;5;241m:=\u001b[39m sys\u001b[38;5;241m.\u001b[39mmodules\u001b[38;5;241m.\u001b[39mget(absolute_name)) \u001b[38;5;129;01mis\u001b[39;00m \u001b[38;5;129;01mnot\u001b[39;00m \u001b[38;5;28;01mNone\u001b[39;00m \u001b[38;5;129;01mand\u001b[39;00m\n\u001b[1;32m     67\u001b[0m     (fname \u001b[38;5;241m:=\u001b[39m get_allowed_file_name_or_none(module)) \u001b[38;5;129;01mis\u001b[39;00m \u001b[38;5;129;01mnot\u001b[39;00m \u001b[38;5;28;01mNone\u001b[39;00m \u001b[38;5;129;01mand\u001b[39;00m\n\u001b[1;32m     68\u001b[0m     (mtime \u001b[38;5;241m:=\u001b[39m os\u001b[38;5;241m.\u001b[39mstat(fname)\u001b[38;5;241m.\u001b[39mst_mtime) \u001b[38;5;241m>\u001b[39m \u001b[38;5;28mself\u001b[39m\u001b[38;5;241m.\u001b[39mlast_mtime_by_modname\u001b[38;5;241m.\u001b[39mget(\n\u001b[1;32m     69\u001b[0m         absolute_name, \u001b[38;5;28mfloat\u001b[39m(\u001b[38;5;124m\"\u001b[39m\u001b[38;5;124minf\u001b[39m\u001b[38;5;124m\"\u001b[39m)) \u001b[38;5;129;01mand\u001b[39;00m \u001b[38;5;129;01mnot\u001b[39;00m \u001b[38;5;28mself\u001b[39m\u001b[38;5;241m.\u001b[39m_should_hint):\n\u001b[1;32m     70\u001b[0m     \u001b[38;5;28mself\u001b[39m\u001b[38;5;241m.\u001b[39m_should_hint \u001b[38;5;241m=\u001b[39m \u001b[38;5;28;01mTrue\u001b[39;00m\n\u001b[0;32m---> 71\u001b[0m module \u001b[38;5;241m=\u001b[39m \u001b[38;5;28mself\u001b[39m\u001b[38;5;241m.\u001b[39m_original_builtins_import(name, \u001b[38;5;241m*\u001b[39margs, \u001b[38;5;241m*\u001b[39m\u001b[38;5;241m*\u001b[39mkwargs)\n\u001b[1;32m     72\u001b[0m \u001b[38;5;28;01mif\u001b[39;00m (fname \u001b[38;5;241m:=\u001b[39m fname \u001b[38;5;129;01mor\u001b[39;00m get_allowed_file_name_or_none(module)) \u001b[38;5;129;01mis\u001b[39;00m \u001b[38;5;129;01mnot\u001b[39;00m \u001b[38;5;28;01mNone\u001b[39;00m:\n\u001b[1;32m     73\u001b[0m     mtime \u001b[38;5;241m=\u001b[39m mtime \u001b[38;5;129;01mor\u001b[39;00m os\u001b[38;5;241m.\u001b[39mstat(fname)\u001b[38;5;241m.\u001b[39mst_mtime\n",
        "File \u001b[0;32m/local_disk0/.ephemeral_nfs/envs/pythonEnv-b6484e2e-695e-4af7-9646-c66ea3f45576/lib/python3.12/site-packages/langchain/document_loaders/__init__.py:379\u001b[0m, in \u001b[0;36m__getattr__\u001b[0;34m(name)\u001b[0m\n\u001b[1;32m    377\u001b[0m \u001b[38;5;28;01mdef\u001b[39;00m \u001b[38;5;21m__getattr__\u001b[39m(name: \u001b[38;5;28mstr\u001b[39m) \u001b[38;5;241m-\u001b[39m\u001b[38;5;241m>\u001b[39m Any:\n\u001b[1;32m    378\u001b[0m \u001b[38;5;250m    \u001b[39m\u001b[38;5;124;03m\"\"\"Look up attributes dynamically.\"\"\"\u001b[39;00m\n\u001b[0;32m--> 379\u001b[0m     \u001b[38;5;28;01mreturn\u001b[39;00m _import_attribute(name)\n",
        "File \u001b[0;32m/local_disk0/.ephemeral_nfs/envs/pythonEnv-b6484e2e-695e-4af7-9646-c66ea3f45576/lib/python3.12/site-packages/langchain/_api/module_import.py:72\u001b[0m, in \u001b[0;36mcreate_importer.<locals>.import_by_name\u001b[0;34m(name)\u001b[0m\n\u001b[1;32m     70\u001b[0m \u001b[38;5;28;01mexcept\u001b[39;00m \u001b[38;5;167;01mModuleNotFoundError\u001b[39;00m \u001b[38;5;28;01mas\u001b[39;00m e:\n\u001b[1;32m     71\u001b[0m     \u001b[38;5;28;01mif\u001b[39;00m new_module\u001b[38;5;241m.\u001b[39mstartswith(\u001b[38;5;124m\"\u001b[39m\u001b[38;5;124mlangchain_community\u001b[39m\u001b[38;5;124m\"\u001b[39m):\n\u001b[0;32m---> 72\u001b[0m         \u001b[38;5;28;01mraise\u001b[39;00m \u001b[38;5;167;01mModuleNotFoundError\u001b[39;00m(\n\u001b[1;32m     73\u001b[0m             \u001b[38;5;124mf\u001b[39m\u001b[38;5;124m\"\u001b[39m\u001b[38;5;124mModule \u001b[39m\u001b[38;5;132;01m{\u001b[39;00mnew_module\u001b[38;5;132;01m}\u001b[39;00m\u001b[38;5;124m not found. \u001b[39m\u001b[38;5;124m\"\u001b[39m\n\u001b[1;32m     74\u001b[0m             \u001b[38;5;124m\"\u001b[39m\u001b[38;5;124mPlease install langchain-community to access this module. \u001b[39m\u001b[38;5;124m\"\u001b[39m\n\u001b[1;32m     75\u001b[0m             \u001b[38;5;124m\"\u001b[39m\u001b[38;5;124mYou can install it using `pip install -U langchain-community`\u001b[39m\u001b[38;5;124m\"\u001b[39m\n\u001b[1;32m     76\u001b[0m         ) \u001b[38;5;28;01mfrom\u001b[39;00m \u001b[38;5;21;01me\u001b[39;00m\n\u001b[1;32m     77\u001b[0m     \u001b[38;5;28;01mraise\u001b[39;00m\n\u001b[1;32m     79\u001b[0m \u001b[38;5;28;01mtry\u001b[39;00m:\n",
        "\u001b[0;31mModuleNotFoundError\u001b[0m: Module langchain_community.document_loaders not found. Please install langchain-community to access this module. You can install it using `pip install -U langchain-community`"
       ],
       "type": "baseError"
      }
     },
     "output_type": "display_data"
    }
   ],
   "source": [
    "from langchain.document_loaders import PyPDFLoader\n",
    "\n",
    "# Załaduj dokument PDF\n",
    "loader = PyPDFLoader(\"example.pdf\")\n",
    "documents = loader.load()\n",
    "print(f\"Załadowano {len(documents)} stron\")"
   ]
  },
  {
   "cell_type": "code",
   "execution_count": null,
   "metadata": {},
   "outputs": [],
   "source": []
  },
  {
   "cell_type": "code",
   "execution_count": 0,
   "metadata": {
    "application/vnd.databricks.v1+cell": {
     "cellMetadata": {},
     "inputWidgets": {},
     "nuid": "ab69eb22-8c68-48ec-a6e3-6fbc43ae0fcb",
     "showTitle": false,
     "tableResultSettingsMap": {},
     "title": ""
    }
   },
   "outputs": [],
   "source": [
    "from langchain.text_splitter import RecursiveCharacterTextSplitter\n",
    "\n",
    "# Podział na fragmenty\n",
    "splitter = RecursiveCharacterTextSplitter(chunk_size=500, chunk_overlap=50)\n",
    "docs = splitter.split_documents(documents)\n",
    "print(f\"Podzielono na {len(docs)} fragmentów\")"
   ]
  },
  {
   "cell_type": "code",
   "execution_count": 0,
   "metadata": {
    "application/vnd.databricks.v1+cell": {
     "cellMetadata": {
      "byteLimit": 2048000,
      "rowLimit": 10000
     },
     "inputWidgets": {},
     "nuid": "11567a1d-acfe-4cf0-a2ea-9c44e3ca34ae",
     "showTitle": false,
     "tableResultSettingsMap": {},
     "title": ""
    }
   },
   "outputs": [
    {
     "name": "stdout",
     "output_type": "stream",
     "text": [
      "[{'index': 0, 'object': 'embedding', 'embedding': [-0.39111328125, 0.5419921875, -0.4560546875, -0.451416015625, -0.36474609375, 0.41015625, 0.01099395751953125, -0.287841796875, -0.83203125, 0.14501953125, -0.69970703125, -0.283203125, 0.08331298828125, 0.11627197265625, -0.344970703125, -1.1123046875, -0.3623046875, -0.84228515625, 0.7958984375, -1.28515625, -0.1739501953125, 0.164794921875, 0.261962890625, -2.216796875, 0.454833984375, -0.34326171875, -0.7197265625, -0.032867431640625, 0.5029296875, 0.6875, -0.2493896484375, 0.1510009765625, -0.227294921875, 0.11651611328125, -0.245361328125, 0.86767578125, 0.001186370849609375, 0.11749267578125, -0.485107421875, -1.029296875, -0.3857421875, -0.259033203125, 0.40478515625, -0.84033203125, -0.284912109375, -0.0914306640625, 0.333740234375, -0.2095947265625, 0.13232421875, 0.7509765625, -1.267578125, 1, 0.1329345703125, -0.267333984375, 0.287109375, 0.418701171875, -0.1199951171875, -0.215576171875, -0.146728515625, -0.324951171875, -0.83251953125, 0.8115234375, -0.35205078125, -0.192138671875, -0.34765625, 1.0654296875, -0.253662109375, 0.7451171875, -0.06640625, 0.68408203125, -0.211181640625, -0.1934814453125, -0.479736328125, -1.0478515625, 0.63525390625, -0.313720703125, -0.74853515625, 0.7822265625, -0.59033203125, 0.8505859375, -0.72314453125, 0.275390625, -0.8115234375, -0.71484375, 0.07879638671875, 0.83154296875, -0.3876953125, 0.31005859375, 0.5634765625, 0.93212890625, 0.86962890625, -0.1531982421875, -0.548828125, -0.0268096923828125, -0.3046875, 0.39501953125, -0.37353515625, -0.357421875, 0.27490234375, -0.487548828125, -0.08648681640625, -0.69091796875, -0.1195068359375, -0.08502197265625, -0.1778564453125, 0.170166015625, -0.0887451171875, 0.572265625, -0.1031494140625, -0.52099609375, 0.11322021484375, 0.49853515625, -0.07855224609375, 0.070068359375, 0.6259765625, 0.71728515625, 0.1817626953125, -0.244140625, 0.35791015625, -0.1343994140625, -0.1783447265625, 1.3076171875, 0.89013671875, -0.0262603759765625, -0.177734375, -0.13623046875, -0.410888671875, 0.1070556640625, 0.226806640625, 0.43359375, -0.5078125, -0.457275390625, -0.1640625, -0.082275390625, -0.849609375, -0.47412109375, -1.1318359375, 0.392578125, 0.60791015625, 0.85498046875, 0.47900390625, -0.29052734375, 0.497802734375, -0.094970703125, 0.9951171875, 0.10595703125, -1.1806640625, 0.74267578125, 0.140380859375, 0.1793212890625, -1.162109375, 0.2147216796875, 0.178466796875, -0.9951171875, -0.0003795623779296875, 0.1688232421875, -0.0548095703125, 0.036102294921875, 0.27880859375, -0.81591796875, -0.927734375, -0.83056640625, -0.395263671875, 0.318115234375, -0.76171875, 0.50390625, 0.216064453125, -0.759765625, 0.046173095703125, 0.64892578125, -0.57177734375, 0.12744140625, 0.30126953125, 0.6767578125, 0.03289794921875, 0.564453125, 0.04083251953125, -0.1839599609375, -0.359375, 0.0946044921875, -0.191650390625, -0.76513671875, 0.087890625, -0.1492919921875, 0.372802734375, -0.07330322265625, -0.302490234375, -0.478515625, 0.1673583984375, -0.0615234375, -0.97021484375, -0.2032470703125, -0.30419921875, -0.283447265625, -0.278076171875, 0.002838134765625, -0.08807373046875, -0.1767578125, -0.021881103515625, 0.29736328125, 0.28271484375, 0.302001953125, 1.134765625, -0.72119140625, -0.1474609375, 0.10198974609375, 0.12200927734375, -0.1448974609375, 0.2391357421875, 0.15966796875, 0.290771484375, 0.026702880859375, 0.1080322265625, -0.459228515625, -0.3056640625, 0.448974609375, 0.74267578125, -0.467529296875, 0.254638671875, -0.0162200927734375, -0.1986083984375, 0.229248046875, 0.319580078125, 0.66357421875, 1.22265625, -0.418212890625, 1.134765625, 1.1318359375, 0.048187255859375, -0.7783203125, 0.51025390625, 1.02734375, -0.0701904296875, 0.249755859375, 1.0380859375, -0.7001953125, 0.264404296875, 0.26025390625, -0.81494140625, 0.291748046875, -0.560546875, 0.1651611328125, 0.1414794921875, 1.359375, 0.701171875, -0.64013671875, 1.248046875, 0.2359619140625, 0.291259765625, 0.259521484375, -0.379150390625, 0.359130859375, 1.046875, 0.095703125, 0.35693359375, -1.2109375, 0.21044921875, 0.1669921875, 0.056884765625, -0.68115234375, -0.1806640625, -0.049285888671875, 1.029296875, -0.40283203125, -0.45654296875, -0.1207275390625, -0.75, 0.2548828125, 0.5947265625, -0.5126953125, 0.52880859375, -0.383544921875, -0.10870361328125, -0.3935546875, 0.78662109375, 0.100341796875, 0.058929443359375, -0.734375, 0.90966796875, -0.38232421875, 0.1827392578125, 0.61181640625, -0.210205078125, -0.06378173828125, -0.55517578125, 0.5400390625, -0.880859375, 1.1923828125, 0.1580810546875, 1.1171875, 0.625, 0.0784912109375, -0.43603515625, -0.3984375, 0.6552734375, 0.436279296875, 0.322265625, -0.53076171875, -0.040313720703125, -0.79052734375, 0.032012939453125, 1.078125, -0.2281494140625, -2.177734375, 1.291015625, -0.0231475830078125, 1.0009765625, -0.966796875, -0.62841796875, 0.55419921875, -0.4541015625, 0.1968994140625, 0.5283203125, 0.97216796875, -0.4697265625, 0.77294921875, -1.240234375, -0.60205078125, 0.19287109375, -0.2034912109375, 0.470458984375, -0.236572265625, 0.79443359375, 1.427734375, -0.060943603515625, 0.9150390625, 0.259765625, -0.062255859375, 0.324462890625, 0.418701171875, 0.1815185546875, -0.18408203125, 0.08392333984375, 0.40185546875, -0.2049560546875, 0.1639404296875, -0.66845703125, -0.88671875, -0.353759765625, -0.96484375, -0.0149688720703125, 0.0921630859375, 0.266845703125, -1.0302734375, 0.802734375, -0.59521484375, -0.476806640625, -0.34228515625, -0.193115234375, -0.58837890625, 0.8759765625, -0.63818359375, -0.337646484375, -0.80810546875, -0.0249481201171875, -0.6923828125, -0.73046875, 0.92578125, -1.1884765625, -0.51318359375, 0.994140625, 0.13623046875, -1.1513671875, 0.0718994140625, -1.990234375, -0.3369140625, -0.407958984375, 0.8671875, 0.1929931640625, -0.294189453125, 0.1942138671875, 0.434814453125, -0.11956787109375, 0.437744140625, 1.0283203125, 0.393310546875, -0.37646484375, 0.6796875, -0.048431396484375, -0.3828125, 0.61279296875, -0.5205078125, 0.460205078125, -0.1846923828125, -0.1868896484375, -0.1834716796875, -0.6787109375, -0.7763671875, 0.011932373046875, 0.09283447265625, -0.406005859375, -0.4423828125, -0.87548828125, -0.0810546875, 1.1103515625, -1.25, 0.83740234375, -0.1968994140625, -0.052581787109375, -0.8447265625, -0.3515625, -0.2281494140625, -1.2431640625, -0.215576171875, 1.0068359375, 0.328369140625, 0.646484375, -0.88720703125, 0.333251953125, -0.484375, -0.10791015625, -0.39306640625, 0.11474609375, 0.231201171875, -1.0390625, -0.2978515625, -0.2822265625, -0.79052734375, -0.57177734375, 0.1898193359375, -0.51904296875, -0.6591796875, 0.12066650390625, 0.6650390625, -1.40625, 0.424560546875, -0.2454833984375, -0.1478271484375, -0.6201171875, 0.1712646484375, -0.60595703125, -0.1854248046875, -0.66064453125, -0.61865234375, -0.186279296875, -0.45166015625, 0.1500244140625, -0.603515625, -1.130859375, 0.18701171875, 0.458984375, 0.1732177734375, -0.26611328125, 1.5546875, 0.49462890625, 0.599609375, 0.376953125, 0.18408203125, 0.07855224609375, 0.46923828125, 1.201171875, 0.45703125, 0.06402587890625, -0.478759765625, -0.047698974609375, -0.372314453125, -0.363037109375, -0.6826171875, -1.0517578125, 1.0888671875, 0.9697265625, 1.603515625, 0.05889892578125, -0.92626953125, 0.1136474609375, -0.52001953125, -0.48681640625, 0.35546875, -0.302001953125, 0.59619140625, 0.053680419921875, 0.640625, 0.1649169921875, 0.200439453125, 0.03497314453125, 0.234619140625, 0.54638671875, -0.61865234375, 0.269775390625, -1.0625, 0.54638671875, -0.82568359375, -0.042144775390625, -0.291259765625, 0.382080078125, 0.23193359375, -0.11553955078125, 0.227294921875, -0.369384765625, -0.83984375, -0.21875, -0.04217529296875, -0.2279052734375, -1.404296875, 0.334716796875, -0.291748046875, -0.1474609375, -0.525390625, 0.3447265625, -0.7626953125, -0.369140625, -0.2449951171875, 0.368896484375, -0.198486328125, 0.196044921875, 0.02618408203125, 0.011566162109375, -0.0672607421875, 0.271728515625, 0.94140625, -0.646484375, -0.152587890625, -0.00603485107421875, 0.83056640625, -0.32958984375, -0.5068359375, 0.40869140625, -0.8984375, 0.269775390625, -0.316650390625, -0.755859375, 0.04522705078125, 0.2303466796875, 0.259521484375, 0.40673828125, 0.51416015625, 0.50146484375, -0.410400390625, -0.2265625, 0.0198974609375, 0.287109375, -0.101806640625, 0.5693359375, -0.2099609375, -0.411865234375, -0.2291259765625, -0.25048828125, -0.0030117034912109375, -0.501953125, 0.5341796875, 0.38671875, -0.432861328125, 0.1590576171875, 0.333740234375, 0.27197265625, 1.0703125, 0.18115234375, -0.6982421875, 0.276611328125, -0.050689697265625, -0.08453369140625, -0.2012939453125, -0.3544921875, 0.85888671875, -0.384033203125, -0.2132568359375, -0.6708984375, -0.260009765625, -0.2027587890625, 0.0748291015625, 0.52197265625, 0.30908203125, -0.1612548828125, -0.1982421875, -0.181396484375, 0.60400390625, 0.090576171875, 0.1243896484375, -1.26171875, 0.2705078125, -0.89599609375, -0.85791015625, -0.63427734375, -0.389892578125, 0.66845703125, -0.2042236328125, 0.48486328125, -0.440673828125, 0.87548828125, 0.67041015625, 1.2890625, 1.0693359375, -0.040679931640625, -0.64990234375, 0.1676025390625, 0.1573486328125, 0.66455078125, 0.06890869140625, -0.07391357421875, -0.422119140625, -0.160888671875, 0.0250091552734375, 0.396484375, 0.43017578125, 0.441650390625, 0.173828125, -0.77587890625, 1.150390625, 0.55517578125, -0.44970703125, 0.042327880859375, 0.33056640625, 0.1668701171875, 0.2298583984375, 0.1326904296875, -0.6748046875, -1.0771484375, 0.47998046875, -0.61865234375, 0.58544921875, -0.53564453125, -0.15771484375, -0.2822265625, 0.259521484375, 0.431640625, 1.08203125, -0.2025146484375, 0.284423828125, -0.2548828125, -0.7900390625, -0.352783203125, 0.2607421875, -0.5146484375, -0.56689453125, 0.92822265625, -0.1695556640625, -0.2105712890625, 0.1697998046875, -0.50634765625, 0.48388671875, 0.9423828125, 0.099853515625, 0.01861572265625, 0.345458984375, -0.83203125, 0.90283203125, 0.19677734375, 0.31591796875, 0.170166015625, 0.432373046875, 0.3232421875, 0.398681640625, -0.2978515625, -1.0126953125, -0.05340576171875, 0.33251953125, 0.5361328125, -0.14208984375, -0.262939453125, 0.443603515625, -0.396484375, 0.1695556640625, 0.8095703125, 0.1375732421875, 0.9501953125, -0.348876953125, 0.28515625, 1.005859375, 1, 0.64892578125, -0.48876953125, 1.8310546875, 0.5166015625, 0.2425537109375, -0.1148681640625, 0.0654296875, -0.003021240234375, 0.07012939453125, 0.0992431640625, 0.09820556640625, -0.43994140625, 0.1435546875, -0.15478515625, 1.2021484375, 0.0716552734375, -0.697265625, -0.0625, 0.321533203125, -0.7666015625, -0.0712890625, -0.4384765625, -1.3388671875, -0.1424560546875, 0.043487548828125, 0.0208587646484375, -1.138671875, 0.1968994140625, -0.0017499923706054688, 0.0892333984375, 0.130126953125, -0.41357421875, 0.357666015625, -0.53955078125, -0.035186767578125, -0.73388671875, -0.759765625, -0.41552734375, 0.014984130859375, 0.8857421875, -0.2078857421875, -0.09271240234375, -1.3701171875, -0.81298828125, 0.412841796875, -0.88818359375, -0.00213623046875, 0.4912109375, -0.246826171875, -0.004657745361328125, -0.01202392578125, 0.004817962646484375, -0.95849609375, -0.329833984375, -0.0158538818359375, 0.3544921875, 0.1966552734375, -0.1624755859375, 0.1766357421875, 1.1533203125, -1.4921875, -0.456298828125, 0.2216796875, -0.09075927734375, 0.26513671875, -0.4130859375, -0.57470703125, -0.1005859375, 0.335693359375, -0.1590576171875, -0.09271240234375, 0.059661865234375, -0.2054443359375, -0.303466796875, -0.90185546875, 1.0341796875, 0.319580078125, 0.317138671875, 0.6923828125, -0.451416015625, -0.4716796875, -0.95947265625, 0.4892578125, 0.281494140625, -0.1834716796875, 0.16748046875, 0.67236328125, 2.14453125, 0.97998046875, -0.54150390625, 0.25537109375, 0.02667236328125, 0.266845703125, 0.36376953125, -1.5185546875, -0.2132568359375, -0.452392578125, 0.360595703125, -0.04962158203125, -0.458984375, 0.61083984375, 0.01151275634765625, 0.407470703125, -0.640625, -0.64453125, 0.6025390625, 0.005878448486328125, -0.343994140625, 0.89208984375, -0.497314453125, 0.075927734375, -0.31494140625, 0.31982421875, 0.1243896484375, -0.05511474609375, 0.09014892578125, 0.1357421875, 0.336669921875, -0.74755859375, 0.36279296875, -0.10076904296875, 0.76806640625, 0.0264892578125, 0.10565185546875, 1.111328125, 0.2342529296875, -0.56982421875, -0.68017578125, -0.1510009765625, -1.484375, -0.81494140625, -0.129150390625, -0.04083251953125, 0.1617431640625, 0.75, 0.3046875, -0.1546630859375, 0.1278076171875, -1.009765625, -0.52783203125, 0.0260162353515625, -0.4833984375, 0.63427734375, 0.75634765625, -0.6162109375, -1.4794921875, -0.2015380859375, 0.79443359375, -0.8203125, 0.053070068359375, 0.422119140625, -0.50927734375, 0.1881103515625, -0.05316162109375, 1.3798828125, 0.220458984375, 0.169677734375, 1.1015625, 0.315185546875, -0.60400390625, 0.418701171875, 0.188720703125, -0.09124755859375, 0.767578125, 0.76171875, 0.484130859375, -1.0546875, -1.42578125, -0.181884765625, -0.272705078125, 0.345947265625, 0.5595703125, 1.380859375, -0.253173828125, 0.379150390625, 0.61328125, -0.67578125, 0.302978515625, -0.289794921875, 0.3818359375, -0.61279296875, 1.2138671875, -0.04876708984375, -0.342529296875, -0.38427734375, -0.3291015625, 0.7197265625, -0.397705078125, -0.1405029296875, -0.1826171875, -0.6220703125, 0.1971435546875, 0.5087890625, -0.13623046875, -1.185546875, -0.62158203125, -0.203125, 0.438232421875, -0.5908203125, -0.255615234375, -0.4326171875, 0.78515625, -0.78369140625, -1.3125, 0.58203125, -1.1201171875, 0.156494140625, -0.5830078125, -0.8251953125, 0.83154296875, -0.0183868408203125, -0.53564453125, 0.031341552734375, 0.35205078125, 0.043670654296875, -0.275146484375, -0.89306640625, 0.384765625, 0.125, -0.63330078125, -0.458251953125, 0.167236328125, -0.255859375, 0.351806640625, -0.49365234375, 1.73828125, -0.153564453125, 0.0518798828125, -0.52490234375, -0.705078125, -0.370361328125, -0.55810546875, -0.1998291015625, 0.69970703125, -0.285888671875, -0.229736328125, 0.64697265625, 0.280517578125, -0.2298583984375, -0.08087158203125, 0.403076171875, -0.117431640625, -0.86572265625, 0.91796875, 1.1748046875, -0.8271484375, 0.0175628662109375, 0.1495361328125, -0.341796875, 0.385498046875, -0.96826171875, -0.28515625, -0.12115478515625, -0.9892578125, -1.2294921875, -0.211669921875, -0.2379150390625, 0.223388671875, -0.2900390625, -0.68359375, -0.29345703125, -0.56298828125, 0.31884765625, -0.51318359375, -0.36083984375, -0.1912841796875, 0.072998046875, -0.20751953125, 0.5517578125, 0.76513671875, 1.2236328125, 0.78955078125, 0.11053466796875, 0.322021484375, -0.50146484375, 0.1929931640625, 1.0537109375, -0.1072998046875, -0.0304412841796875, 1.1044921875, 0.2308349609375, 0.11248779296875, -0.73974609375, -15.1171875, 0.209716796875, 0.2196044921875, -0.03228759765625, -1.1435546875, -0.447998046875, 0.77294921875, -0.03424072265625, -0.81640625, -0.251220703125, -0.298583984375, 0.68505859375, -0.71826171875, -0.38916015625, -0.552734375, -0.3662109375, 0.10687255859375, -0.85986328125, 0.1429443359375, -1.130859375, 0.59619140625, 1.0849609375, -0.27587890625, -0.83056640625, 0.8388671875, -0.1719970703125, -0.268310546875, 0.22900390625, 0.0189361572265625, -0.64453125, 0.0537109375, 0.142578125, -0.1290283203125, 1.0869140625, -0.60302734375, 0.104248046875, -0.446044921875, 1.23828125, -0.156982421875, -1.125, -0.380615234375, 1.21484375, 0.3984375, -0.1256103515625, -0.69140625, 0.1138916015625, 0.1796875, -0.2242431640625, -0.2900390625, -0.135986328125, -0.0220184326171875, 0.9228515625, 0.92626953125, -0.010009765625, -0.250244140625, -1.1494140625, 0.031585693359375, -0.164794921875, 0.51123046875, -0.0080718994140625, -0.71630859375, 0.39453125, -0.273193359375, 0.277099609375, 0.4775390625, -0.354736328125, -0.63623046875, -0.49609375, 0.28515625, -0.27392578125, -0.1796875, -0.466796875, -0.2431640625, 0.22021484375, 0.18359375, 0.24853515625, 0.8671875, -0.09246826171875, -0.79833984375, 0.036865234375, -0.26953125, -0.2308349609375]}, {'index': 1, 'object': 'embedding', 'embedding': [-0.76171875, 0.425537109375, -0.111328125, -0.1551513671875, -0.1624755859375, 0.436279296875, 0.43798828125, -0.53564453125, -1.0537109375, 0.22705078125, -0.2020263671875, -0.454345703125, 0.109375, -0.1348876953125, 0.1968994140625, -0.7880859375, -0.236328125, -0.50732421875, 0.5830078125, -1.38671875, -0.4658203125, 0.1016845703125, 0.4111328125, -1.4111328125, 0.70068359375, 0.037689208984375, -0.7197265625, 0.137451171875, 0.155517578125, 0.292236328125, -0.0714111328125, -0.41650390625, -0.12646484375, 0.0155792236328125, -0.5498046875, 1.09765625, -0.4140625, 0.251708984375, -0.6123046875, -0.6474609375, -0.5048828125, -0.11767578125, 0.05059814453125, -0.60400390625, -0.53173828125, 0.307373046875, 0.297119140625, -0.265625, 0.320068359375, 0.98095703125, -1.041015625, 0.340087890625, 0.19921875, -0.351806640625, 0.482177734375, 0.267333984375, 0.420166015625, -0.0989990234375, 0.568359375, -0.3720703125, -0.50830078125, 0.8544921875, -0.283935546875, -0.68994140625, -0.0176239013671875, 0.71240234375, -0.40869140625, 0.83642578125, 0.126220703125, 0.0264892578125, -0.326171875, 0.42529296875, -0.251953125, -0.947265625, 0.5615234375, -0.076416015625, -1.1123046875, 0.470947265625, -0.517578125, 1.0263671875, -0.47412109375, 0.1529541015625, -0.3623046875, -0.66162109375, 0.6328125, 0.78857421875, -0.390869140625, 0.37744140625, 0.37451171875, 0.6083984375, 0.423583984375, -0.044891357421875, 0.0183868408203125, 0.1422119140625, -0.50537109375, 0.1455078125, -0.56396484375, -0.71337890625, -0.341552734375, -0.48486328125, 0.0869140625, -0.568359375, 0.0693359375, 0.048095703125, -0.5, 0.1434326171875, -0.054229736328125, 0.365478515625, -0.267578125, -0.2349853515625, 0.1475830078125, 0.51171875, 0.195556640625, 0.143310546875, -0.05487060546875, 0.446044921875, 0.259765625, -0.74267578125, -0.249267578125, 0.10186767578125, -0.61572265625, 0.64111328125, 1.0361328125, -0.1058349609375, -0.60546875, 0.321044921875, -0.26318359375, -0.15380859375, -0.1666259765625, 0.290771484375, -0.2059326171875, -0.4658203125, -0.310791015625, -0.280029296875, -0.307861328125, -0.7451171875, -0.88671875, 0.364013671875, 1.0390625, 0.51953125, -0.27978515625, -0.466796875, 0.479248046875, -0.27880859375, 0.7177734375, 0.263916015625, -1.388671875, 0.300048828125, -0.404541015625, 0.47509765625, -1.408203125, 0.369140625, -0.1380615234375, -0.487548828125, 0.307373046875, 0.650390625, 0.0960693359375, -0.1187744140625, 0.5625, -0.5849609375, -0.6279296875, -1.0361328125, -0.40576171875, 0.039093017578125, -0.50390625, 0.61181640625, -0.68603515625, -0.76904296875, 0.52001953125, 0.2156982421875, -0.84375, -0.2476806640625, 0.53173828125, 0.4609375, -0.17529296875, 0.2015380859375, 0.25732421875, -0.128173828125, 0.137939453125, 0.2379150390625, -0.26611328125, -0.8583984375, 0.493408203125, -0.0828857421875, 0.84619140625, -0.03741455078125, -0.61767578125, -0.368408203125, -0.077880859375, -0.034088134765625, -0.98876953125, -0.390625, -0.34423828125, -0.10162353515625, 0.11358642578125, 0.529296875, -0.2091064453125, 0.277099609375, 0.342529296875, 0.31494140625, -0.5576171875, 0.197509765625, 1.2978515625, -0.568359375, 0.313720703125, 0.177978515625, -0.302001953125, 0.073974609375, 0.18212890625, 0.267822265625, -0.359619140625, -0.1953125, -0.03790283203125, -0.77490234375, -0.10186767578125, 0.6826171875, 0.6875, -0.60986328125, 0.373291015625, -0.0130462646484375, 0.16357421875, 0.87646484375, 0.318603515625, 0.8544921875, 0.9375, -0.328857421875, 1.3798828125, 1.2978515625, 0.332763671875, -0.2340087890625, 0.9287109375, 0.96044921875, -0.2685546875, 0.1787109375, 0.451171875, -0.18994140625, 0.69384765625, -0.257568359375, -0.5126953125, 0.262451171875, 0.334716796875, -0.76611328125, -0.08587646484375, 1.3740234375, 0.234130859375, -0.78271484375, 0.72412109375, -0.1873779296875, 0.55615234375, 0.65478515625, -0.470703125, -0.057525634765625, 0.1845703125, -0.107421875, 0.28564453125, -0.4658203125, 0.60009765625, -0.1368408203125, 0.044097900390625, -0.63330078125, -0.22607421875, 0.34423828125, 1.1298828125, -0.2491455078125, -0.38916015625, -0.3779296875, -0.59765625, 0.54150390625, 0.60791015625, -0.284423828125, 0.6962890625, 0.26611328125, 0.034149169921875, -0.483642578125, 1.427734375, 0.876953125, 0.30322265625, -0.8720703125, 0.77685546875, 0.10479736328125, 0.60302734375, 0.2435302734375, 0.397705078125, -0.224365234375, -0.198486328125, 0.195068359375, -0.98486328125, 1.203125, 0.3447265625, 1.0166015625, 1.2734375, 0.51513671875, -0.1258544921875, -0.63330078125, 0.37744140625, 0.44677734375, -0.287841796875, -0.31298828125, 0.1512451171875, -0.1114501953125, 0.08258056640625, 0.75537109375, -0.1788330078125, -1.6484375, 1.787109375, 0.128662109375, 0.73486328125, -0.7705078125, -1.32421875, 0.8203125, -0.241455078125, -0.20556640625, 0.58154296875, -0.40966796875, -0.56201171875, 0.46044921875, -1.482421875, -0.5556640625, -0.5576171875, -0.67138671875, -0.0760498046875, -0.6376953125, 0.61083984375, 1.072265625, 0.36328125, 0.7060546875, 0.619140625, -0.43017578125, 0.41259765625, 0.006343841552734375, 0.7275390625, -0.1507568359375, 0.032745361328125, 0.2236328125, 0.06695556640625, 0.46728515625, -0.884765625, -0.95361328125, -0.449462890625, -0.7451171875, 0.1236572265625, 0.0247650146484375, 0.471435546875, -1.068359375, 0.69140625, -1.203125, -0.330322265625, -0.8486328125, -0.12451171875, -0.403564453125, 0.467041015625, -1.046875, -0.420654296875, -0.99365234375, 0.141357421875, -0.525390625, -0.740234375, 0.52685546875, -1.6025390625, -0.212158203125, 1.2314453125, -0.176513671875, -1.3076171875, 0.13671875, -1.29296875, 0.1871337890625, -0.343994140625, 0.99462890625, 0.392822265625, -0.60302734375, 0.006587982177734375, 1.2314453125, 0.11572265625, 0.223876953125, 0.21044921875, 0.0121612548828125, 0.21484375, 0.51025390625, -0.5478515625, -0.57763671875, 0.35302734375, -0.6640625, 0.541015625, 0.0985107421875, 0.0174407958984375, -0.186279296875, -0.52294921875, -0.09527587890625, 0.6396484375, 0.228759765625, -0.268798828125, -0.428955078125, -0.62548828125, 0.230224609375, 0.71142578125, -0.4580078125, -0.0291290283203125, -0.62060546875, 0.1793212890625, -0.7607421875, 0.1524658203125, 0.005290985107421875, -0.962890625, 0.49365234375, 0.69873046875, 0.283447265625, 0.19140625, -0.4482421875, 0.5654296875, -0.289794921875, 0.310791015625, 0.275390625, -0.05419921875, 0.09027099609375, -0.82666015625, -0.2958984375, -0.07745361328125, -0.6474609375, -1.1201171875, 0.1571044921875, -0.552734375, -0.057464599609375, -0.042633056640625, 0.1234130859375, -0.91015625, 0.4140625, -0.486572265625, -0.1376953125, -0.5185546875, -0.36376953125, -0.72314453125, 0.077880859375, -0.61279296875, -0.74365234375, -0.408447265625, -0.52294921875, -0.5380859375, -0.6513671875, -0.9296875, 0.453857421875, 0.010498046875, 0.09136962890625, -0.14794921875, 1.7265625, 0.51318359375, 0.54443359375, 0.279296875, 0.0033969879150390625, -0.478271484375, 0.0235748291015625, 1.068359375, 0.845703125, 0.455810546875, 0.0968017578125, 0.2027587890625, -0.282958984375, -0.61328125, -0.84716796875, -1.0498046875, 1.3798828125, 0.5966796875, 1.037109375, 0.03607177734375, -1.3427734375, 0.425048828125, -0.71044921875, -0.77294921875, 0.62841796875, -0.1177978515625, 0.6240234375, -0.428466796875, 0.720703125, -0.10675048828125, 0.252685546875, 0.09619140625, -0.2247314453125, 0.21875, -0.176513671875, 0.5517578125, -0.330322265625, 0.72265625, -0.395751953125, 0.365234375, -0.33203125, 0.63720703125, 0.2479248046875, 0.022613525390625, -0.032470703125, -0.1446533203125, -0.52880859375, -0.0982666015625, -0.53076171875, 0.0633544921875, -0.61865234375, 0.1966552734375, 0.1690673828125, -0.2406005859375, -0.29296875, 0.0196990966796875, -0.6669921875, -0.17724609375, 0.11468505859375, 0.71923828125, -0.415771484375, 0.340576171875, -0.33056640625, -0.358154296875, -0.391357421875, -0.023681640625, 0.9189453125, -0.04132080078125, 0.1915283203125, 0.2213134765625, 0.9501953125, -0.43359375, -0.314697265625, 0.052215576171875, -0.1907958984375, 0.71875, -0.1951904296875, -0.84765625, 0.08026123046875, 0.477783203125, 0.478271484375, 0.80078125, 0.7919921875, 0.658203125, -0.54833984375, 0.016326904296875, -0.5361328125, 0.1705322265625, 0.1690673828125, 0.62939453125, 0.0094146728515625, 0.1822509765625, -0.320068359375, -0.0838623046875, 0.11376953125, -0.40673828125, 0.61865234375, 0.6875, -0.288818359375, 0.36767578125, -0.0187835693359375, 0.1976318359375, 1.466796875, 0.33740234375, -0.390625, 0.035064697265625, 0.0022830963134765625, 0.040008544921875, 0.08563232421875, 0.061737060546875, 0.7744140625, -0.38232421875, -0.392822265625, -0.63330078125, -0.055145263671875, -0.058380126953125, 0.12109375, 0.50146484375, 0.83349609375, -0.10595703125, -0.29443359375, -0.270263671875, -0.01306915283203125, 0.1427001953125, 0.8759765625, -0.7099609375, 0.44921875, -0.66748046875, -1.1962890625, -0.09100341796875, 0.0831298828125, 0.748046875, 0.0160369873046875, -0.06353759765625, -0.64599609375, 0.8896484375, 0.47900390625, 1.189453125, 0.77978515625, -0.29443359375, -1.1220703125, 0.11871337890625, 0.494140625, -0.09619140625, 0.12457275390625, -0.104736328125, -0.140869140625, -0.30029296875, 0.289794921875, -0.2279052734375, -0.216796875, 0.63232421875, -0.11474609375, -0.6708984375, 0.78466796875, 0.673828125, -0.68408203125, -0.2310791015625, -0.1656494140625, 0.2724609375, 0.37353515625, -0.161376953125, -0.705078125, -0.76416015625, 0.38818359375, -0.494384765625, 0.1943359375, -0.6474609375, -0.1905517578125, -0.1749267578125, -0.52197265625, 0.472900390625, 1.3701171875, -0.57958984375, 0.67822265625, -0.383544921875, -1.15625, -0.22705078125, 0.4501953125, -0.431640625, -0.64892578125, 1.119140625, -0.1702880859375, 0.045562744140625, 0.370849609375, -0.37841796875, 0.51123046875, 0.67626953125, -0.1605224609375, 0.1295166015625, 0.6044921875, -0.3134765625, 1.298828125, 0.051422119140625, -0.043426513671875, 0.65283203125, 1.267578125, 0.409423828125, -0.28466796875, -0.07110595703125, -0.5087890625, -0.1209716796875, 0.06463623046875, 0.47802734375, 0.3662109375, -0.470703125, 0.09967041015625, -0.30517578125, -0.4990234375, 0.67919921875, -0.1021728515625, 0.88916015625, -0.423828125, 0.0682373046875, 0.8408203125, 1.328125, 0.11480712890625, -0.57421875, 1.169921875, 0.128173828125, -0.0771484375, -0.1239013671875, -0.213623046875, -0.07476806640625, -0.166259765625, 0.21142578125, 0.06903076171875, -0.355712890625, 0.2890625, 0.349853515625, 0.8720703125, 0.037506103515625, -0.48486328125, 0.49755859375, 0.45654296875, -0.97314453125, -0.059814453125, -0.389404296875, -1.6025390625, -0.24658203125, 0.4755859375, -0.1322021484375, -0.9833984375, 0.031463623046875, -0.0654296875, 0.6357421875, -0.056549072265625, -1.0322265625, 0.490478515625, -0.369384765625, -0.0164337158203125, -0.8662109375, -0.72900390625, -0.662109375, -0.05474853515625, 0.96142578125, -0.12420654296875, -0.353271484375, -1.908203125, -0.5712890625, 0.02618408203125, -0.4736328125, 0.428955078125, 0.9560546875, -0.12127685546875, 0.0091552734375, 0.1837158203125, -0.07568359375, -1.1953125, -0.75732421875, 0.226806640625, 0.236083984375, -0.5986328125, 0.12841796875, -0.12158203125, 0.86962890625, -1.658203125, 0.0350341796875, 0.03338623046875, -0.138671875, 0.1468505859375, 0.007488250732421875, -0.69384765625, 0.25634765625, -0.083984375, 0.30615234375, 0.47607421875, -0.270263671875, -0.353759765625, 0.0211639404296875, -1.2255859375, 1.576171875, -0.21044921875, 0.339111328125, 0.67822265625, -0.8203125, -0.415283203125, -0.498046875, 0.21630859375, 0.338134765625, -1.0634765625, -0.0887451171875, 0.06982421875, 1.8154296875, 0.654296875, -0.244384765625, 0.258544921875, -0.140869140625, 0.23388671875, 0.3759765625, -1.349609375, -0.86865234375, -0.962890625, -0.235595703125, -0.239501953125, -1.0126953125, 0.3740234375, -0.181396484375, 0.333251953125, -0.4521484375, -0.381591796875, 0.472900390625, -0.289306640625, 0.2186279296875, 0.30517578125, 0.03607177734375, 0.211669921875, -0.151123046875, 0.340087890625, -0.2362060546875, 0.268798828125, 0.41650390625, 0.436767578125, 0.1396484375, -0.619140625, 0.1336669921875, -0.5087890625, 0.681640625, -0.1903076171875, 0.9892578125, 0.85546875, 0.935546875, -0.251708984375, -0.64404296875, -0.245849609375, -1.384765625, -0.74755859375, 0.26904296875, -0.31201171875, 0.77880859375, 0.810546875, 0.0198974609375, 0.08612060546875, -0.36083984375, -1.037109375, -1.3017578125, 0.220703125, -0.83203125, 0.43310546875, 1.0087890625, -0.2373046875, -1.44921875, -0.0645751953125, 0.880859375, -0.65478515625, 0.396240234375, -0.017303466796875, 0.2457275390625, 0.1724853515625, 0.499267578125, 1.4716796875, 0.173095703125, 0.296142578125, 1.005859375, 0.556640625, -0.59033203125, 0.2171630859375, 0.0171661376953125, 0.059356689453125, 0.7275390625, 1.294921875, 0.423828125, -1.43359375, -1.849609375, -0.2080078125, -0.328369140625, 0.07012939453125, 0.144287109375, 1.4931640625, 0.181640625, -0.322021484375, 0.61865234375, -0.57666015625, 0.4765625, -0.06317138671875, 0.212890625, -0.9326171875, 1.3828125, 0.04510498046875, -0.6552734375, 0.037261962890625, -0.9052734375, 0.9111328125, -0.65869140625, -0.5458984375, -0.3984375, -0.8427734375, 0.50830078125, 0.383544921875, 0.252685546875, -1.1337890625, -0.461669921875, 0.028594970703125, 0.265625, -0.5576171875, -0.294677734375, -0.331787109375, 0.8095703125, -0.64306640625, -0.81787109375, 0.311279296875, -1.125, 0.0535888671875, -0.6611328125, -0.58740234375, 0.80908203125, 0.09002685546875, -0.255859375, -0.58642578125, 0.040191650390625, -0.1844482421875, -0.6103515625, -0.78759765625, 0.031524658203125, -0.329345703125, -0.60693359375, -0.01058197021484375, 0.38525390625, -0.63525390625, -0.1712646484375, -0.9521484375, 1.005859375, -0.53857421875, 0.8974609375, -0.08428955078125, -0.70556640625, -0.61328125, -0.476318359375, -0.228515625, 0.65234375, 0.10992431640625, -0.409423828125, 0.5224609375, 0.053558349609375, 0.11505126953125, 0.0631103515625, 0.04681396484375, -0.1116943359375, -0.69482421875, 0.89794921875, 0.744140625, -0.405029296875, 0.23193359375, 0.387939453125, -0.5205078125, 0.39697265625, -0.724609375, -0.48583984375, 0.3427734375, -1.3798828125, -1.4560546875, -0.10089111328125, -0.1309814453125, 0.67333984375, -0.6796875, -1.3681640625, -0.354248046875, -0.09552001953125, 0.83984375, 0.254150390625, -0.2392578125, -0.515625, 0.6591796875, -0.9921875, 0.533203125, 0.71337890625, 0.66064453125, 1.1142578125, 0.168701171875, -0.004486083984375, -0.39404296875, 0.1298828125, 0.63916015625, 0.276611328125, 0.5126953125, 1.2109375, -0.34228515625, 0.474609375, -0.53271484375, -15.0703125, -0.2666015625, -0.0499267578125, 0.1431884765625, -0.5703125, -0.2325439453125, 0.533203125, 0.135986328125, -0.1785888671875, 0.256591796875, -0.270751953125, 0.261474609375, -0.303466796875, -0.448974609375, 0.275390625, -0.53173828125, -0.1727294921875, -1.29296875, -0.121826171875, -0.65087890625, 0.2445068359375, 0.95166015625, -0.493896484375, -0.3984375, 0.9404296875, -0.324462890625, -0.309814453125, -0.0263519287109375, -0.08807373046875, -0.8564453125, 0.1463623046875, -0.365478515625, -0.69970703125, 0.80224609375, -0.5439453125, -0.56640625, -0.303466796875, 0.7041015625, 0.005802154541015625, -1.1806640625, -0.2457275390625, 0.54150390625, 0.274169921875, 0.1263427734375, -1.083984375, 0.33837890625, -0.2144775390625, 0.07366943359375, -0.5673828125, 0.096435546875, -0.6513671875, 0.72216796875, 0.54443359375, 0.1624755859375, -0.042022705078125, -0.84326171875, -0.344970703125, 0.0182952880859375, 0.466552734375, 0.1282958984375, -0.54345703125, 0.3837890625, -0.07281494140625, -0.116455078125, -0.0716552734375, -0.54443359375, -1.189453125, -0.376220703125, 0.1910400390625, -0.1708984375, -0.274658203125, -0.10546875, 0.01556396484375, -0.1373291015625, -0.107421875, 0.420654296875, 1.0537109375, -0.5341796875, -1.1328125, 0.560546875, -0.0960693359375, -0.040191650390625]}]\n"
     ]
    }
   ],
   "source": [
    "from mlflow.deployments import get_deploy_client\n",
    "\n",
    "texts = [\"example text 1\", \"example text 2\"]\n",
    "\n",
    "client = get_deploy_client(\"databricks\")\n",
    "\n",
    "# Call the embedding endpoint\n",
    "response = client.predict(endpoint=\"databricks-gte-large-en\", inputs={\"input\": texts})\n",
    "\n",
    "# Access embeddings\n",
    "embeddings = response['data']\n",
    "print(embeddings)"
   ]
  },
  {
   "cell_type": "code",
   "execution_count": 0,
   "metadata": {
    "application/vnd.databricks.v1+cell": {
     "cellMetadata": {
      "byteLimit": 2048000,
      "rowLimit": 10000
     },
     "inputWidgets": {},
     "nuid": "a3f05dc7-b8e5-449b-8992-7d4471d5f357",
     "showTitle": false,
     "tableResultSettingsMap": {},
     "title": ""
    }
   },
   "outputs": [
    {
     "data": {
      "text/plain": [
       "\u001b[0;31m---------------------------------------------------------------------------\u001b[0m\n",
       "\u001b[0;31mNameError\u001b[0m                                 Traceback (most recent call last)\n",
       "File \u001b[0;32m<command-2832326452911439>, line 7\u001b[0m\n",
       "\u001b[1;32m      4\u001b[0m client \u001b[38;5;241m=\u001b[39m get_deploy_client(\u001b[38;5;124m\"\u001b[39m\u001b[38;5;124mdatabricks\u001b[39m\u001b[38;5;124m\"\u001b[39m)\n",
       "\u001b[1;32m      6\u001b[0m \u001b[38;5;66;03m# Konwertuj dokumenty do tekstów\u001b[39;00m\n",
       "\u001b[0;32m----> 7\u001b[0m texts \u001b[38;5;241m=\u001b[39m [doc\u001b[38;5;241m.\u001b[39mpage_content \u001b[38;5;28;01mfor\u001b[39;00m doc \u001b[38;5;129;01min\u001b[39;00m docs]\n",
       "\u001b[1;32m      9\u001b[0m \u001b[38;5;66;03m# Pobierz embeddingi\u001b[39;00m\n",
       "\u001b[1;32m     10\u001b[0m embeddings \u001b[38;5;241m=\u001b[39m client\u001b[38;5;241m.\u001b[39mpredict(endpoint\u001b[38;5;241m=\u001b[39m\u001b[38;5;124m\"\u001b[39m\u001b[38;5;124mdatabricks-gte-large-en\u001b[39m\u001b[38;5;124m\"\u001b[39m, inputs\u001b[38;5;241m=\u001b[39m{\u001b[38;5;124m\"\u001b[39m\u001b[38;5;124minputs\u001b[39m\u001b[38;5;124m\"\u001b[39m: texts})[\u001b[38;5;124m\"\u001b[39m\u001b[38;5;124membeddings\u001b[39m\u001b[38;5;124m\"\u001b[39m]\n",
       "\n",
       "\u001b[0;31mNameError\u001b[0m: name 'docs' is not defined"
      ]
     },
     "metadata": {
      "application/vnd.databricks.v1+output": {
       "addedWidgets": {},
       "arguments": {},
       "datasetInfos": [],
       "jupyterProps": {
        "ename": "NameError",
        "evalue": "name 'docs' is not defined"
       },
       "metadata": {
        "errorSummary": "<span class='ansi-red-fg'>NameError</span>: name 'docs' is not defined"
       },
       "removedWidgets": [],
       "sqlProps": null,
       "stackFrames": [
        "\u001b[0;31m---------------------------------------------------------------------------\u001b[0m",
        "\u001b[0;31mNameError\u001b[0m                                 Traceback (most recent call last)",
        "File \u001b[0;32m<command-2832326452911439>, line 7\u001b[0m\n\u001b[1;32m      4\u001b[0m client \u001b[38;5;241m=\u001b[39m get_deploy_client(\u001b[38;5;124m\"\u001b[39m\u001b[38;5;124mdatabricks\u001b[39m\u001b[38;5;124m\"\u001b[39m)\n\u001b[1;32m      6\u001b[0m \u001b[38;5;66;03m# Konwertuj dokumenty do tekstów\u001b[39;00m\n\u001b[0;32m----> 7\u001b[0m texts \u001b[38;5;241m=\u001b[39m [doc\u001b[38;5;241m.\u001b[39mpage_content \u001b[38;5;28;01mfor\u001b[39;00m doc \u001b[38;5;129;01min\u001b[39;00m docs]\n\u001b[1;32m      9\u001b[0m \u001b[38;5;66;03m# Pobierz embeddingi\u001b[39;00m\n\u001b[1;32m     10\u001b[0m embeddings \u001b[38;5;241m=\u001b[39m client\u001b[38;5;241m.\u001b[39mpredict(endpoint\u001b[38;5;241m=\u001b[39m\u001b[38;5;124m\"\u001b[39m\u001b[38;5;124mdatabricks-gte-large-en\u001b[39m\u001b[38;5;124m\"\u001b[39m, inputs\u001b[38;5;241m=\u001b[39m{\u001b[38;5;124m\"\u001b[39m\u001b[38;5;124minputs\u001b[39m\u001b[38;5;124m\"\u001b[39m: texts})[\u001b[38;5;124m\"\u001b[39m\u001b[38;5;124membeddings\u001b[39m\u001b[38;5;124m\"\u001b[39m]\n",
        "\u001b[0;31mNameError\u001b[0m: name 'docs' is not defined"
       ],
       "type": "baseError"
      }
     },
     "output_type": "display_data"
    }
   ],
   "source": [
    "from mlflow.deployments import get_deploy_client\n",
    "\n",
    "# Użyj endpointu z modelem embeddingującym (np. DBRX)\n",
    "client = get_deploy_client(\"databricks\")\n",
    "\n",
    "# Konwertuj dokumenty do tekstów\n",
    "texts = [doc.page_content for doc in docs]\n",
    "\n",
    "# Pobierz embeddingi\n",
    "embeddings = client.predict(endpoint=\"databricks-gte-large-en\", inputs={\"inputs\": texts})[\"embeddings\"]"
   ]
  },
  {
   "cell_type": "code",
   "execution_count": 0,
   "metadata": {
    "application/vnd.databricks.v1+cell": {
     "cellMetadata": {},
     "inputWidgets": {},
     "nuid": "82cfd366-7a80-4c67-b593-ffc8ee941546",
     "showTitle": false,
     "tableResultSettingsMap": {},
     "title": ""
    }
   },
   "outputs": [],
   "source": [
    "import pandas as pd\n",
    "from pyspark.sql import SparkSession\n",
    "\n",
    "\n",
    "\n",
    "# Dane jako DataFrame\n",
    "df = pd.DataFrame({\n",
    "    \"text\": texts,\n",
    "    \"embedding\": embeddings\n",
    "})\n",
    "\n",
    "# Konwersja do Spark DataFrame i zapis do UC\n",
    "\n",
    "df.write.mode(\"overwrite\").saveAsTable(\"sqlday_edbworkshop.default.vector_documents\")"
   ]
  },
  {
   "cell_type": "code",
   "execution_count": 0,
   "metadata": {
    "application/vnd.databricks.v1+cell": {
     "cellMetadata": {},
     "inputWidgets": {},
     "nuid": "beea99d5-f3b1-424d-b156-ec23dd922418",
     "showTitle": false,
     "tableResultSettingsMap": {},
     "title": ""
    }
   },
   "outputs": [],
   "source": [
    "from mlflow.vectorsearch.client import VectorSearchClient\n",
    "\n",
    "vsc = VectorSearchClient()\n",
    "\n",
    "index = vsc.create_index(\n",
    "    name=\"vector_index_documents\",\n",
    "    endpoint_name=\"databricks-endpoint-dbrx\",\n",
    "    embedding_dimension=len(embeddings[0]),\n",
    "    source_table=\"sqlday_edbworkshop.default.vector_documents\",\n",
    "    input_column=\"text\",\n",
    "    embedding_column=\"embedding\"\n",
    ")\n",
    "\n",
    "print(\"Indeks utworzony:\", index.index_name)"
   ]
  },
  {
   "cell_type": "code",
   "execution_count": 0,
   "metadata": {
    "application/vnd.databricks.v1+cell": {
     "cellMetadata": {},
     "inputWidgets": {},
     "nuid": "695e56aa-e6c9-45a3-b6ff-4546847f700a",
     "showTitle": false,
     "tableResultSettingsMap": {},
     "title": ""
    }
   },
   "outputs": [],
   "source": [
    "query_result = index.query(\n",
    "    query_text=\"Podaj najważniejsze informacje z dokumentu\",\n",
    "    columns=[\"text\"],\n",
    "    num_results=3\n",
    ")\n",
    "\n",
    "for i, r in enumerate(query_result['data']):\n",
    "    print(f\"{i+1}. {r['text'][:300]}\\n\")"
   ]
  }
 ],
 "metadata": {
  "application/vnd.databricks.v1+notebook": {
   "computePreferences": null,
   "dashboards": [],
   "environmentMetadata": null,
   "inputWidgetPreferences": null,
   "language": "python",
   "notebookMetadata": {
    "pythonIndentUnit": 4
   },
   "notebookName": "2. Core Databota - Mosaic Vector Search",
   "widgets": {}
  },
  "kernelspec": {
   "display_name": "Python 3",
   "language": "python",
   "name": "python3"
  },
  "language_info": {
   "name": "python"
  }
 },
 "nbformat": 4,
 "nbformat_minor": 0
}
